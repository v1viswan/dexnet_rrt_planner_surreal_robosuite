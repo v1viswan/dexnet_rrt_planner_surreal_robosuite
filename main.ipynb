{
 "cells": [
  {
   "cell_type": "code",
   "execution_count": 1,
   "metadata": {},
   "outputs": [
    {
     "name": "stderr",
     "output_type": "stream",
     "text": [
      "WARNING:root:Failed to import geometry msgs in rigid_transformations.py.\n",
      "WARNING:root:Failed to import ros dependencies in rigid_transforms.py\n",
      "WARNING:root:autolab_core not installed as catkin package, RigidTransform ros methods will be unavailable\n",
      "/home/vj-viswanath/mujoco-env/lib/python3.7/site-packages/tensorflow/python/framework/dtypes.py:526: FutureWarning: Passing (type, 1) or '1type' as a synonym of type is deprecated; in a future version of numpy, it will be understood as (type, (1,)) / '(1,)type'.\n",
      "  _np_qint8 = np.dtype([(\"qint8\", np.int8, 1)])\n",
      "/home/vj-viswanath/mujoco-env/lib/python3.7/site-packages/tensorflow/python/framework/dtypes.py:527: FutureWarning: Passing (type, 1) or '1type' as a synonym of type is deprecated; in a future version of numpy, it will be understood as (type, (1,)) / '(1,)type'.\n",
      "  _np_quint8 = np.dtype([(\"quint8\", np.uint8, 1)])\n",
      "/home/vj-viswanath/mujoco-env/lib/python3.7/site-packages/tensorflow/python/framework/dtypes.py:528: FutureWarning: Passing (type, 1) or '1type' as a synonym of type is deprecated; in a future version of numpy, it will be understood as (type, (1,)) / '(1,)type'.\n",
      "  _np_qint16 = np.dtype([(\"qint16\", np.int16, 1)])\n",
      "/home/vj-viswanath/mujoco-env/lib/python3.7/site-packages/tensorflow/python/framework/dtypes.py:529: FutureWarning: Passing (type, 1) or '1type' as a synonym of type is deprecated; in a future version of numpy, it will be understood as (type, (1,)) / '(1,)type'.\n",
      "  _np_quint16 = np.dtype([(\"quint16\", np.uint16, 1)])\n",
      "/home/vj-viswanath/mujoco-env/lib/python3.7/site-packages/tensorflow/python/framework/dtypes.py:530: FutureWarning: Passing (type, 1) or '1type' as a synonym of type is deprecated; in a future version of numpy, it will be understood as (type, (1,)) / '(1,)type'.\n",
      "  _np_qint32 = np.dtype([(\"qint32\", np.int32, 1)])\n",
      "/home/vj-viswanath/mujoco-env/lib/python3.7/site-packages/tensorflow/python/framework/dtypes.py:535: FutureWarning: Passing (type, 1) or '1type' as a synonym of type is deprecated; in a future version of numpy, it will be understood as (type, (1,)) / '(1,)type'.\n",
      "  np_resource = np.dtype([(\"resource\", np.ubyte, 1)])\n",
      "WARNING:root:Unable to import pylibfreenect2. Python-only Kinect driver may not work properly.\n",
      "WARNING:root:Failed to import ROS in Kinect2_sensor.py. Kinect will not be able to be used in bridged mode\n",
      "WARNING:root:Unable to import Primsense sensor modules! Likely due to missing OpenNI2.\n",
      "WARNING:root:Unable to import pyrealsense2.\n",
      "WARNING:root:Failed to import ROS in ensenso_sensor.py. ROS functionality not available\n",
      "WARNING:root:Failed to import ROS in phoxi_sensor.py. PhoXiSensor functionality unavailable.\n",
      "WARNING:root:Unable to import generic sensor modules!.\n",
      "WARNING:root:Unable to import weight sensor modules!\n"
     ]
    }
   ],
   "source": [
    "import numpy as np\n",
    "import math\n",
    "import cv2\n",
    "import robosuite as suite\n",
    "from robosuite.wrappers import GymWrapper\n",
    "from mujoco_py import load_model_from_path, MjSim, MjViewer, MjRenderContextOffscreen, MjRenderContext\n",
    "from dexnet import DexNet\n",
    "from ik_controller import robosuite_IKmover\n",
    "import robosuite.utils.transform_utils as T\n",
    "from robosuite.environments import SawyerLift_vj\n",
    "import matplotlib.pyplot as plt\n",
    "from RRT_Planner import RRTplanner"
   ]
  },
  {
   "cell_type": "code",
   "execution_count": 2,
   "metadata": {},
   "outputs": [],
   "source": [
    "def set_camera_birdview(viewer, origin, distance=0.8, h =0.8):\n",
    "    '''\n",
    "    world.mujoco_arena.bin_abs => the center of the table is (0.6, -0.15, 0.8)\n",
    "    the camera is positioned directly on top of the table looking downward, with camera calibration:\n",
    "    - with default fov: 45\n",
    "    [[544.40515832   0.         258.        ]\n",
    "     [  0.         544.40515832 193.        ]\n",
    "     [  0.           0.           1.        ]]\n",
    "    the camera position in the world coordinate is:\n",
    "    T: [0.6, -0.15, 0.8 + 0.9 (distance)]\n",
    "    took the front view camera and rotate around y-axis:\n",
    "    \n",
    "\n",
    "    looking from robot orientation with azimuth = -180, rotation around z-axis\n",
    "    '''\n",
    "    \n",
    "    \n",
    "    viewer.cam.fixedcamid = 1\n",
    "    viewer.cam.distance = distance\n",
    "    viewer.cam.elevation = -90\n",
    "    viewer.cam.lookat[0] = origin[0]\n",
    "    viewer.cam.lookat[1] = origin[1]\n",
    "    viewer.cam.lookat[2] = h"
   ]
  },
  {
   "cell_type": "code",
   "execution_count": 3,
   "metadata": {},
   "outputs": [
    {
     "name": "stdout",
     "output_type": "stream",
     "text": [
      "Creating window glfw\n",
      "arena origin: [0.56, 0, 0]\n",
      "Creating window glfw\n",
      "Creating window glfw\n"
     ]
    }
   ],
   "source": [
    "# configuration for depth and segmask rig\n",
    "top_pad, left_pad = 110, 50\n",
    "width, height = 516, 386\n",
    "start = np.array([-0.08166385 + np.pi, -0.80021733,  0.39712603,  1.81847624, -0.46447373,\n",
    "        0.64565823,  0])\n",
    "\n",
    "world = SawyerLift_vj(\n",
    "    ignore_done=True,\n",
    "    gripper_type=\"TwoFingerGripper\",\n",
    "    use_camera_obs=False,\n",
    "    has_offscreen_renderer=False,\n",
    "    has_renderer=True,\n",
    "    camera_name=None,\n",
    "    control_freq=100)\n",
    "\n",
    "origin = [0.16 + world.table_full_size[0] / 2, 0, 0]\n",
    "print(\"arena origin:\", origin)\n",
    "world.reset()\n",
    "world.set_robot_joint_positions(start)\n",
    "ik_wrapper = robosuite_IKmover(world)\n",
    "world.render()\n",
    "world.mode = 'human'\n",
    "sim = world.sim\n",
    "\n",
    "viewer = MjRenderContextOffscreen(sim, 0)"
   ]
  },
  {
   "cell_type": "code",
   "execution_count": 4,
   "metadata": {},
   "outputs": [
    {
     "data": {
      "image/png": "[encoded data removed]",
      "text/plain": [
       "<Figure size 432x288 with 2 Axes>"
      ]
     },
     "metadata": {
      "needs_background": "light"
     },
     "output_type": "display_data"
    },
    {
     "name": "stdout",
     "output_type": "stream",
     "text": [
      "(386, 516)\n",
      "0.9668721 pos: 113 171 max: 0.98686886 pos: 0 0 box depth: 0.97213435\n"
     ]
    }
   ],
   "source": [
    "set_camera_birdview(viewer, origin, distance=0.8, h=0.8)\n",
    "viewer.render(width, height)\n",
    "image = np.asarray(viewer.read_pixels(width, height, depth=False)[:, :, :], dtype=np.uint8)\n",
    "depth = np.asarray((viewer.read_pixels(width, height, depth=True)[1]))    \n",
    "# , depth[left_pad, top_pad], depth[-left_pad, -top_pad]\n",
    "\n",
    "plt.figure()\n",
    "plt.subplot(2,1,1)\n",
    "plt.imshow(image)\n",
    "\n",
    "plt.subplot(2,1,2)\n",
    "plt.imshow(depth)\n",
    "plt.show()\n",
    "print(depth.shape)\n",
    "print(np.min(depth), \"pos:\", int(np.argmin(depth)/len(depth[0])), np.argmin(depth)%len(depth[0]),\\\n",
    "      \"max:\", np.max(depth), \"pos:\", int(np.argmax(depth)/len(depth[0])), np.argmax(depth)%len(depth[0]),\\\n",
    "     \"box depth:\", depth[193,258])\n",
    "# min depth is wall"
   ]
  },
  {
   "cell_type": "code",
   "execution_count": 5,
   "metadata": {},
   "outputs": [],
   "source": [
    "# cdepth = np.min(depth)\n",
    "\n",
    "# seg = depth <= cdepth\n",
    "\n",
    "# cv2.imwrite('./seg_mask2.png', seg*255)"
   ]
  },
  {
   "cell_type": "code",
   "execution_count": 6,
   "metadata": {},
   "outputs": [],
   "source": [
    "cdepth = depth[50,50]\n",
    "\n",
    "depth[depth > cdepth] = cdepth\n",
    "seg = depth != cdepth\n",
    "offset, scale = np.min(depth), np.max(depth) - np.min(depth)\n",
    "depth = (depth - np.min(depth)) / (np.max(depth) - np.min(depth))\n",
    "\n",
    "# seg[:, :top_pad], seg[:, -top_pad:] = False, False\n",
    "# seg[:left_pad, :], seg[-left_pad:, :] = False, False\n",
    "# seg = cv2.imread('./seg_mask.png',cv2.IMREAD_GRAYSCALE) > 128\n"
   ]
  },
  {
   "cell_type": "code",
   "execution_count": 7,
   "metadata": {},
   "outputs": [
    {
     "data": {
      "image/png": "[encoded data removed]",
      "text/plain": [
       "<Figure size 432x288 with 2 Axes>"
      ]
     },
     "metadata": {
      "needs_background": "light"
     },
     "output_type": "display_data"
    }
   ],
   "source": [
    "plt.figure()\n",
    "plt.subplot(1,2,1)\n",
    "plt.imshow(depth)\n",
    "plt.subplot(1,2,2)\n",
    "plt.imshow(seg)\n",
    "plt.show()"
   ]
  },
  {
   "cell_type": "code",
   "execution_count": 8,
   "metadata": {},
   "outputs": [
    {
     "data": {
      "image/png": "[encoded data removed]",
      "text/plain": [
       "<Figure size 432x288 with 1 Axes>"
      ]
     },
     "metadata": {
      "needs_background": "light"
     },
     "output_type": "display_data"
    }
   ],
   "source": [
    "seg[:150,:] = False\n",
    "seg[225:,:] = False\n",
    "seg[:,:100] = False\n",
    "seg[:,300:] = False\n",
    "plt.imshow(seg)\n",
    "plt.show()"
   ]
  },
  {
   "cell_type": "code",
   "execution_count": 9,
   "metadata": {
    "scrolled": true
   },
   "outputs": [
    {
     "name": "stdout",
     "output_type": "stream",
     "text": [
      "\u001b[35mGQCNNModelFactory \u001b[32mINFO    \u001b[0m \u001b[37mInitializing GQ-CNN with Tensorflow as backend...\u001b[0m\n",
      "\u001b[35mtensorflow \u001b[33mWARNING \u001b[0m \u001b[37mFrom /home/vj-viswanath/mujoco-env/lib/python3.7/site-packages/tensorflow/python/framework/op_def_library.py:263: colocate_with (from tensorflow.python.framework.ops) is deprecated and will be removed in a future version.\n",
      "Instructions for updating:\n",
      "Colocations handled automatically by placer.\u001b[0m\n",
      "\u001b[35mGQCNNTF    \u001b[32mINFO    \u001b[0m \u001b[37mBuilding Network...\u001b[0m\n",
      "\u001b[35mGQCNNTF    \u001b[32mINFO    \u001b[0m \u001b[37mBuilding Image Stream...\u001b[0m\n",
      "\u001b[35mGQCNNTF    \u001b[32mINFO    \u001b[0m \u001b[37mBuilding convolutional layer: conv1_1...\u001b[0m\n",
      "\u001b[35mGQCNNTF    \u001b[32mINFO    \u001b[0m \u001b[37mBuilding convolutional layer: conv1_2...\u001b[0m\n",
      "\u001b[35mGQCNNTF    \u001b[32mINFO    \u001b[0m \u001b[37mBuilding convolutional layer: conv2_1...\u001b[0m\n",
      "\u001b[35mGQCNNTF    \u001b[32mINFO    \u001b[0m \u001b[37mBuilding convolutional layer: conv2_2...\u001b[0m\n",
      "\u001b[35mGQCNNTF    \u001b[32mINFO    \u001b[0m \u001b[37mBuilding fully connected layer: fc3...\u001b[0m\n",
      "\u001b[35mtensorflow \u001b[33mWARNING \u001b[0m \u001b[37mFrom /home/vj-viswanath/gqcnn_michael/dexnet_robosuite/gqcnn/model/tf/network_tf.py:1143: calling dropout (from tensorflow.python.ops.nn_ops) with keep_prob is deprecated and will be removed in a future version.\n",
      "Instructions for updating:\n",
      "Please use `rate` instead of `keep_prob`. Rate should be set to `rate = 1 - keep_prob`.\u001b[0m\n",
      "\u001b[35mGQCNNTF    \u001b[32mINFO    \u001b[0m \u001b[37mBuilding Pose Stream...\u001b[0m\n",
      "\u001b[35mGQCNNTF    \u001b[32mINFO    \u001b[0m \u001b[37mBuilding Fully Connected Pose Layer: pc1...\u001b[0m\n",
      "\u001b[35mGQCNNTF    \u001b[32mINFO    \u001b[0m \u001b[37mBuilding Merge Stream...\u001b[0m\n",
      "\u001b[35mGQCNNTF    \u001b[32mINFO    \u001b[0m \u001b[37mBuilding Merge Layer: fc4...\u001b[0m\n",
      "\u001b[35mGQCNNTF    \u001b[32mINFO    \u001b[0m \u001b[37mBuilding fully connected layer: fc5...\u001b[0m\n",
      "\u001b[35mGQCNNTF    \u001b[32mINFO    \u001b[0m \u001b[37mBuilding Softmax Layer...\u001b[0m\n",
      "\u001b[35mGQCNNTF    \u001b[32mINFO    \u001b[0m \u001b[37mInitializing TF Session...\u001b[0m\n",
      "dexnet prepared\n",
      "\u001b[35mCrossEntropyRobustGraspingPolicy \u001b[32mINFO    \u001b[0m \u001b[37mSampling seed set\u001b[0m\n",
      "\u001b[35mCrossEntropyRobustGraspingPolicy \u001b[32mINFO    \u001b[0m \u001b[37mSampled 129 grasps\u001b[0m\n",
      "\u001b[35mCrossEntropyRobustGraspingPolicy \u001b[32mINFO    \u001b[0m \u001b[37mComputing the seed set took 0.447 sec\u001b[0m\n",
      "\u001b[35mCrossEntropyRobustGraspingPolicy \u001b[32mINFO    \u001b[0m \u001b[37mCEM iter 0\u001b[0m\n",
      "\u001b[35mGQCnnQualityFunction \u001b[32mINFO    \u001b[0m \u001b[37mImage transformation took 0.229 sec\u001b[0m\n",
      "\u001b[35mGQCnnQualityFunction \u001b[32mINFO    \u001b[0m \u001b[37mInference took 14.223 sec\u001b[0m\n",
      "\u001b[35mCrossEntropyRobustGraspingPolicy \u001b[32mINFO    \u001b[0m \u001b[37mPrediction took 14.454 sec\u001b[0m\n",
      "\u001b[35mCrossEntropyRobustGraspingPolicy \u001b[32mINFO    \u001b[0m \u001b[37mElite set computation took 0.007 sec\u001b[0m\n",
      "\u001b[35mCrossEntropyRobustGraspingPolicy \u001b[32mINFO    \u001b[0m \u001b[37mGMM fitting with 14 components took 0.515 sec\u001b[0m\n",
      "\u001b[35mCrossEntropyRobustGraspingPolicy \u001b[32mINFO    \u001b[0m \u001b[37mGMM sampling took 0.148 sec\u001b[0m\n",
      "\u001b[35mCrossEntropyRobustGraspingPolicy \u001b[32mINFO    \u001b[0m \u001b[37mResample loop took 0.159 sec\u001b[0m\n",
      "\u001b[35mCrossEntropyRobustGraspingPolicy \u001b[32mINFO    \u001b[0m \u001b[37mResampling took 0.684 sec\u001b[0m\n",
      "\u001b[35mCrossEntropyRobustGraspingPolicy \u001b[32mINFO    \u001b[0m \u001b[37mCEM iter 1\u001b[0m\n",
      "\u001b[35mGQCnnQualityFunction \u001b[32mINFO    \u001b[0m \u001b[37mImage transformation took 0.103 sec\u001b[0m\n",
      "\u001b[35mGQCnnQualityFunction \u001b[32mINFO    \u001b[0m \u001b[37mInference took 0.022 sec\u001b[0m\n",
      "\u001b[35mCrossEntropyRobustGraspingPolicy \u001b[32mINFO    \u001b[0m \u001b[37mPrediction took 0.126 sec\u001b[0m\n",
      "\u001b[35mCrossEntropyRobustGraspingPolicy \u001b[32mINFO    \u001b[0m \u001b[37mElite set computation took 0.003 sec\u001b[0m\n",
      "\u001b[35mCrossEntropyRobustGraspingPolicy \u001b[32mINFO    \u001b[0m \u001b[37mGMM fitting with 7 components took 0.005 sec\u001b[0m\n",
      "\u001b[35mCrossEntropyRobustGraspingPolicy \u001b[32mINFO    \u001b[0m \u001b[37mGMM sampling took 0.001 sec\u001b[0m\n",
      "\u001b[35mCrossEntropyRobustGraspingPolicy \u001b[32mINFO    \u001b[0m \u001b[37mResample loop took 0.004 sec\u001b[0m\n",
      "\u001b[35mCrossEntropyRobustGraspingPolicy \u001b[32mINFO    \u001b[0m \u001b[37mResampling took 0.014 sec\u001b[0m\n",
      "\u001b[35mCrossEntropyRobustGraspingPolicy \u001b[32mINFO    \u001b[0m \u001b[37mCEM iter 2\u001b[0m\n",
      "\u001b[35mGQCnnQualityFunction \u001b[32mINFO    \u001b[0m \u001b[37mImage transformation took 0.096 sec\u001b[0m\n",
      "\u001b[35mGQCnnQualityFunction \u001b[32mINFO    \u001b[0m \u001b[37mInference took 0.021 sec\u001b[0m\n",
      "\u001b[35mCrossEntropyRobustGraspingPolicy \u001b[32mINFO    \u001b[0m \u001b[37mPrediction took 0.118 sec\u001b[0m\n",
      "\u001b[35mCrossEntropyRobustGraspingPolicy \u001b[32mINFO    \u001b[0m \u001b[37mElite set computation took 0.003 sec\u001b[0m\n",
      "\u001b[35mCrossEntropyRobustGraspingPolicy \u001b[32mINFO    \u001b[0m \u001b[37mGMM fitting with 7 components took 0.008 sec\u001b[0m\n",
      "\u001b[35mCrossEntropyRobustGraspingPolicy \u001b[32mINFO    \u001b[0m \u001b[37mGMM sampling took 0.001 sec\u001b[0m\n",
      "\u001b[35mCrossEntropyRobustGraspingPolicy \u001b[32mINFO    \u001b[0m \u001b[37mResample loop took 0.005 sec\u001b[0m\n",
      "\u001b[35mCrossEntropyRobustGraspingPolicy \u001b[32mINFO    \u001b[0m \u001b[37mResampling took 0.018 sec\u001b[0m\n",
      "\u001b[35mGQCnnQualityFunction \u001b[32mINFO    \u001b[0m \u001b[37mImage transformation took 0.079 sec\u001b[0m\n",
      "\u001b[35mGQCnnQualityFunction \u001b[32mINFO    \u001b[0m \u001b[37mInference took 0.020 sec\u001b[0m\n",
      "\u001b[35mCrossEntropyRobustGraspingPolicy \u001b[32mINFO    \u001b[0m \u001b[37mFinal prediction took 0.100 sec\u001b[0m\n",
      "\u001b[35mCrossEntropyRobustGraspingPolicy \u001b[32mINFO    \u001b[0m \u001b[37mSorting grasps\u001b[0m\n",
      "Tra: [ 0.00977448 -0.00714289  0.83083043]\n",
      " Rot: [[ 0.         -0.00414198  0.99999142]\n",
      " [ 0.         -0.99999142 -0.00414198]\n",
      " [ 1.          0.          0.        ]]\n",
      " Qtn: [ 0.00146442  0.70710526 -0.00146442  0.70710526]\n",
      " from grasp to phoxi\n",
      "Action quality: 0.9904712438583374\n",
      "Action depth: 0.8308304301184392\n"
     ]
    }
   ],
   "source": [
    "\n",
    "dexnet = DexNet()\n",
    "dexnet.prepare_dexnet()\n",
    "print(\"dexnet prepared\")\n",
    "state, rgbd_im = dexnet.get_state(depth, seg)\n",
    "action = dexnet.get_action(state)"
   ]
  },
  {
   "cell_type": "code",
   "execution_count": 68,
   "metadata": {},
   "outputs": [
    {
     "name": "stdout",
     "output_type": "stream",
     "text": [
      "center: 262.0, 187.0\n",
      "depth: 0.8308304301184392\n",
      "rot: [[ 0.         -0.00414198  0.99999142]\n",
      " [ 0.         -0.99999142 -0.00414198]\n",
      " [ 1.          0.          0.        ]]\n",
      "tra: [ 0.00977448 -0.00714289  0.83083043]\n",
      "camera intr: ['K', '_K', '__class__', '__delattr__', '__dict__', '__dir__', '__doc__', '__eq__', '__format__', '__ge__', '__getattribute__', '__gt__', '__hash__', '__init__', '__init_subclass__', '__le__', '__lt__', '__module__', '__ne__', '__new__', '__reduce__', '__reduce_ex__', '__repr__', '__setattr__', '__sizeof__', '__str__', '__subclasshook__', '__weakref__', '_cx', '_cy', '_frame', '_fx', '_fy', '_height', '_skew', '_width', 'crop', 'cx', 'cy', 'deproject', 'deproject_pixel', 'deproject_to_image', 'frame', 'from_vec', 'fx', 'fy', 'height', 'load', 'proj_matrix', 'project', 'project_to_image', 'resize', 'rosmsg', 'save', 'skew', 'vec', 'width']\n",
      "proj matrix: [[552.5    0.   255.5 ]\n",
      " [  0.   552.5  191.75]\n",
      " [  0.     0.     1.  ]]\n",
      "other attr: ['__class__', '__delattr__', '__dict__', '__dir__', '__doc__', '__eq__', '__format__', '__ge__', '__getattribute__', '__gt__', '__hash__', '__init__', '__init_subclass__', '__le__', '__lt__', '__module__', '__ne__', '__new__', '__reduce__', '__reduce_ex__', '__repr__', '__setattr__', '__sizeof__', '__str__', '__subclasshook__', '__weakref__', 'angle', 'approach_angle', 'approach_axis', 'axis', 'camera_intr', 'center', 'contact_normals', 'contact_points', 'depth', 'endpoints', 'feature_vec', 'frame', 'from_feature_vec', 'image_dist', 'pose', 'width', 'width_px']\n"
     ]
    },
    {
     "data": {
      "image/png": "[encoded data removed]",
      "text/plain": [
       "<Figure size 720x720 with 1 Axes>"
      ]
     },
     "metadata": {
      "needs_background": "light"
     },
     "output_type": "display_data"
    }
   ],
   "source": [
    "'''\n",
    "get depth of the action and the x, y\n",
    "apply inverse from camera coordinate to the world coordinate\n",
    "'''\n",
    "dexnet.visualization(action, rgbd_im, offset, scale)\n",
    "\n",
    "action.grasp.depth = action.grasp.depth * scale + offset\n",
    "rigid_transform = action.grasp.pose()\n",
    "print('center: {}, {}'.format(action.grasp.center.x, action.grasp.center.y))\n",
    "print('depth: {}'.format(action.grasp.depth))\n",
    "print('rot: {}'.format(rigid_transform.rotation))\n",
    "print('tra: {}'.format(rigid_transform.translation))\n",
    "print('camera intr: {}'.format(dir(action.grasp.camera_intr)))\n",
    "print('proj matrix: {}'.format(action.grasp.camera_intr.proj_matrix))\n",
    "print('other attr: {}'.format(dir(action.grasp)))"
   ]
  },
  {
   "cell_type": "code",
   "execution_count": 69,
   "metadata": {},
   "outputs": [
    {
     "name": "stdout",
     "output_type": "stream",
     "text": [
      "gripper position: [ 0.56977448 -0.00714289  0.82083043]\n"
     ]
    }
   ],
   "source": [
    "gripper_pos = rigid_transform.translation.flatten() + np.array([0.56, 0, -0.01])\n",
    "\n",
    "\n",
    "theta = action.grasp.angle\n",
    "\n",
    "R = np.array([[np.cos(theta),  -np.sin(theta),  0.0000000],\n",
    "              [np.sin(theta),  np.cos(theta),  0.0000000],\n",
    "              [0.0000000, 0.0000000,  1.0000000 ]])\n",
    "I = np.array([[1, 0, 0],\n",
    "              [0, -1, 0],\n",
    "              [0, 0, -1]])\n",
    "gripper_rotation_m = R@I\n",
    "\n",
    "print('gripper position: {}'.format(gripper_pos))"
   ]
  },
  {
   "cell_type": "code",
   "execution_count": 70,
   "metadata": {},
   "outputs": [
    {
     "data": {
      "text/plain": [
       "array([-0.70564085,  0.70856968,  0.        ,  0.        ])"
      ]
     },
     "execution_count": 70,
     "metadata": {},
     "output_type": "execute_result"
    }
   ],
   "source": [
    "T.mat2quat(gripper_rotation_m)"
   ]
  },
  {
   "cell_type": "code",
   "execution_count": 71,
   "metadata": {},
   "outputs": [
    {
     "name": "stdout",
     "output_type": "stream",
     "text": [
      "Creating window glfw\n"
     ]
    }
   ],
   "source": [
    "def sawyer_set_joints_fn(env, state):\n",
    "    env.set_robot_joint_positions(state)\n",
    "\n",
    "def sawyer_set_velocities(env, velocity):\n",
    "    index = 0\n",
    "    for i in env._ref_joint_vel_indexes:\n",
    "        env.sim.data.qvel[i] = velocity[index]\n",
    "        index += 1\n",
    "\n",
    "def sawyer_get_action_fn(env, w_cur,w_next):\n",
    "    w_direction = (w_next-w_cur + np.pi) % (2*np.pi) - np.pi\n",
    "    # Use a PID controller\n",
    "    k = np.ones([len(w_direction)])* 0.1\n",
    "    v = env._get_observation()['joint_vel']\n",
    "    k_d = np.ones([len(w_direction)])* 0.1\n",
    "    return np.concatenate( (k*w_direction-k_d*v,[0]) )\n",
    "\n",
    "def sawyer_collision_fn(env):\n",
    "    sim = env.sim\n",
    "    for contact in sim.data.contact[: env.sim.data.ncon]:\n",
    "        if sim.model.geom_id2name(contact.geom1) is None or sim.model.geom_id2name(contact.geom2) is None:\n",
    "            return True\n",
    "        if ( sim.model.geom_id2name(contact.geom1) in env.gripper.contact_geoms() or\n",
    "            sim.model.geom_id2name(contact.geom2) in env.gripper.contact_geoms() ):\n",
    "            return True\n",
    "    return False\n",
    "\n",
    "def sawyer_obs_fn(env):\n",
    "    return env._joint_positions\n",
    "\n",
    "def sawyer_xyz_obs_fn(env):\n",
    "    obs = env._get_observation()\n",
    "    return np.concatenate((obs['eef_pos'], obs['eef_quat']))\n",
    "\n",
    "def sawyer_dist_fn(w1,w2):\n",
    "    d = (w2-w1 + np.pi) % (2*np.pi) - np.pi\n",
    "    return np.linalg.norm(d)\n",
    "\n",
    "sawyer_d_thres = np.pi/2\n",
    "sawyer_min_dist = np.pi/15\n",
    "sawyer_coll_dist = np.pi/15\n",
    "sawyer_box_granularity = np.pi/4\n",
    "sawyer_start = np.array([-0.08166385, -0.80021733,  0.39712603,  1.81847624, -0.46447373,\n",
    "        0.64565823,  0])\n",
    "sawyer_bbox_start = np.zeros([7])\n",
    "sawyer_bbox_start[0] = -np.pi/4\n",
    "sawyer_bbox_start[1] = -3*np.pi/4\n",
    "sawyer_bbox_start[2] = -np.pi/2\n",
    "sawyer_bbox_start[3] = -np.pi/2\n",
    "sawyer_bbox_start[4] = -np.pi/4\n",
    "sawyer_bbox_start[5] = -np.pi/4\n",
    "sawyer_bbox_start[6] = 0\n",
    "sawyer_bbox_end = np.zeros([7])\n",
    "sawyer_bbox_end[0] = np.pi/4\n",
    "sawyer_bbox_end[1] = np.pi/2\n",
    "sawyer_bbox_end[2] = np.pi/2\n",
    "sawyer_bbox_end[3] = np.pi/2\n",
    "sawyer_bbox_end[4] = np.pi/4\n",
    "sawyer_bbox_end[5] = np.pi/4\n",
    "sawyer_bbox_end[6] = 0\n",
    "\n",
    "sawyer_rrt= RRTplanner(env=world, set_joints_fn=sawyer_set_joints_fn, set_velocity=sawyer_set_velocities, get_action_fn=sawyer_get_action_fn,\\\n",
    "                       collision_fn=sawyer_collision_fn, obs_fn=sawyer_obs_fn, xyz_obs_fn=sawyer_xyz_obs_fn,\\\n",
    "                       dist_fn=sawyer_dist_fn, d_thres=sawyer_d_thres, min_dist=sawyer_min_dist, coll_dist = sawyer_coll_dist,\\\n",
    "                       box_granularity=sawyer_box_granularity, start=sawyer_start, \\\n",
    "                       bbox_start=sawyer_bbox_start, bbox_end=sawyer_bbox_end)"
   ]
  },
  {
   "cell_type": "code",
   "execution_count": 72,
   "metadata": {},
   "outputs": [],
   "source": [
    "filename='./sawyer_planner_data1.pkl'\n",
    "sawyer_rrt.load_planner(filename)"
   ]
  },
  {
   "cell_type": "code",
   "execution_count": 75,
   "metadata": {},
   "outputs": [
    {
     "name": "stdout",
     "output_type": "stream",
     "text": [
      "nearest point: (0.6600170868188664, 0.011332046767501262, 0.9897362085337936, 0.7851206508500039, -0.4941109082783307, 0.32908275442643764, 0.17647808551867938) \n",
      " the joint angles: [ 4.58473512e-01 -4.40050487e-01 -7.58998986e-01  1.45143745e+00\n",
      " -1.06466530e-01  3.95645207e-01  4.12021172e-04]\n",
      "13\n"
     ]
    }
   ],
   "source": [
    "start = np.array([-0.08166385 , -0.80021733,  0.39712603,  1.81847624, -0.46447373,\n",
    "        0.64565823,  0])\n",
    "world.set_robot_joint_positions(start)\n",
    "initial_pos = np.copy(world.observation_spec()['eef_pos'])\n",
    "\n",
    "min_d = np.inf\n",
    "nearest_point = None\n",
    "for xyz in sawyer_rrt.xyz_to_nodes:\n",
    "    d = np.linalg.norm(xyz[:3]-gripper_pos[:3])\n",
    "    if (d < min_d):\n",
    "        min_d = d\n",
    "        nearest_point = xyz\n",
    "\n",
    "# Now that we have nearest point, find a path to the nearest point\n",
    "w_xyz = sawyer_rrt.xyz_to_nodes[nearest_point][0]\n",
    "path = [w_xyz]\n",
    "while sawyer_rrt.nodes_parent[tuple(w_xyz)] is not None:\n",
    "    path.append(sawyer_rrt.nodes_parent[tuple(w_xyz)])\n",
    "    w_xyz = sawyer_rrt.nodes_parent[tuple(w_xyz)]\n",
    "print('nearest point:',nearest_point, '\\n the joint angles:', sawyer_rrt.xyz_to_nodes[nearest_point][0])\n",
    "print(len(path))"
   ]
  },
  {
   "cell_type": "code",
   "execution_count": 77,
   "metadata": {},
   "outputs": [
    {
     "name": "stdout",
     "output_type": "stream",
     "text": [
      "Creating window glfw\n",
      "Lifting\n"
     ]
    }
   ],
   "source": [
    "sawyer_rrt.env.reset()\n",
    "# self.env.viewer.set_camera(camera_id=2)\n",
    "sawyer_rrt.set_joints_fn(sawyer_rrt.env, sawyer_rrt.start)\n",
    "sawyer_rrt.env.render()\n",
    "x_current = sawyer_rrt.start\n",
    "lamda = 1\n",
    "for i in range(1, len(path)):\n",
    "    x_next = path[-i]\n",
    "#     print(\"moving to:\",x_next)\n",
    "    steps = 0\n",
    "    while (sawyer_rrt.dist_fn(x_next, x_current) > 0.01):\n",
    "        action = sawyer_rrt.get_action_fn(env=sawyer_rrt.env, w_cur= x_current, w_next=x_next)\n",
    "        sawyer_rrt.env.step(action*lamda)\n",
    "        lamda = 1 + np.min((0.001*steps, 2))\n",
    "        steps +=1\n",
    "        x_current = sawyer_rrt.obs_fn(sawyer_rrt.env)\n",
    "        sawyer_rrt.env.render()\n",
    "\n",
    "x_next = path[0]\n",
    "\n",
    "steps = 0\n",
    "while (sawyer_rrt.dist_fn(x_next, x_current) > 0.0001):\n",
    "    action = sawyer_rrt.get_action_fn(env=sawyer_rrt.env, w_cur= x_current, w_next=x_next)\n",
    "    sawyer_rrt.env.step(action*lamda)\n",
    "    if (sawyer_rrt.dist_fn(x_next, x_current) < 0.01):\n",
    "        lamda = lamda*1.01\n",
    "    else :\n",
    "        lamda = 1\n",
    "    steps +=1\n",
    "    x_current = sawyer_rrt.obs_fn(sawyer_rrt.env)\n",
    "    sawyer_rrt.env.render()\n",
    "    if (steps > 200):\n",
    "        break\n",
    "### Now use IK controller to move to object position\n",
    "\n",
    "from ik_controller import robosuite_IKmover\n",
    "import robosuite.utils.transform_utils as T\n",
    "ik_wrapper = robosuite_IKmover(world)\n",
    "        \n",
    "# gripper_pos = target_position[:3]\n",
    "# gripper_quat = target_position[3:]\n",
    "# gripper_rotation_m = T.quat2mat(gripper_quat)\n",
    "# gripper_rotation_m = rigid_transform.rotation\n",
    "\n",
    "# gripper_rotation_m = T.quat2mat([-2.37649383e-04, -9.99999946e-01,  2.14259657e-04, -7.87877081e-05])\n",
    "# theta = action.grasp.angle\n",
    "\n",
    "# R = np.array([[np.cos(theta),  -np.sin(theta),  0.0000000],\n",
    "#               [np.sin(theta),  np.cos(theta),  0.0000000],\n",
    "#               [0.0000000, 0.0000000,  1.0000000 ]])\n",
    "# I = np.array([[1, 0, 0],\n",
    "#               [0, -1, 0],\n",
    "#               [0, 0, -1]])\n",
    "# gripper_rotation_m = R@I\n",
    "\n",
    "initial_pos = np.copy(world.observation_spec()['eef_pos'])\n",
    "\n",
    "ik_wrapper.move(gripper_pos, gripper_rotation_m)\n",
    "ik_wrapper.lift(initial_pos)"
   ]
  },
  {
   "cell_type": "code",
   "execution_count": null,
   "metadata": {},
   "outputs": [],
   "source": []
  }
 ],
 "metadata": {
  "kernelspec": {
   "display_name": "Python 3",
   "language": "python",
   "name": "python3"
  },
  "language_info": {
   "codemirror_mode": {
    "name": "ipython",
    "version": 3
   },
   "file_extension": ".py",
   "mimetype": "text/x-python",
   "name": "python",
   "nbconvert_exporter": "python",
   "pygments_lexer": "ipython3",
   "version": "3.7.5"
  }
 },
 "nbformat": 4,
 "nbformat_minor": 2
}
